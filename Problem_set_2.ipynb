{
 "cells": [
  {
   "cell_type": "markdown",
   "id": "02d0c490",
   "metadata": {},
   "source": [
    "# BDAT 1004 – Data Programming\n",
    "\n",
    "# Problem Set 2"
   ]
  },
  {
   "cell_type": "markdown",
   "id": "f17804cb",
   "metadata": {},
   "source": [
    "# Question 1\n",
    "Consider the following Python module:\n",
    "a = 0\n",
    "def b():\n",
    " global a\n",
    " a = c(a)\n",
    "def c(a):\n",
    " return a + 2\n",
    "After importing the module into the interpreter, you execute:\n",
    ">>> b()\n",
    ">>> b()\n",
    ">>> b()\n",
    ">>> a\n",
    "?\n",
    "What value is displayed when the last expression (a) is evaluated? Explain your \n",
    "answer by indicating what happens in every executed statement."
   ]
  },
  {
   "cell_type": "code",
   "execution_count": 2,
   "id": "b04d8240",
   "metadata": {},
   "outputs": [
    {
     "name": "stdout",
     "output_type": "stream",
     "text": [
      "2\n",
      "4\n",
      "6\n",
      "6\n"
     ]
    }
   ],
   "source": [
    "a = 0\n",
    "def b():\n",
    "    global a\n",
    "    a = c(a)\n",
    "    return a\n",
    "def c(a):\n",
    "    return a + 2\n",
    "\n",
    "print(b())\n",
    "print(b())\n",
    "print(b())\n",
    "print(a)"
   ]
  },
  {
   "cell_type": "markdown",
   "id": "6c373a74",
   "metadata": {},
   "source": [
    "# Explanation\n",
    "Initially the value of a=0.\n",
    "\n",
    "#step 1\n",
    "when we call fubction b(), then we can see inside the function variable a is declared as global and then value of a= c(a).\n",
    "which means c function returns 0+2 = 2\n",
    "\n",
    "#step 2\n",
    "when again function b() is called, this time we have value of a=2 because a is a global variable.\n",
    "Then, function c(2) returns 2+2=4.\n",
    "\n",
    "#step 3\n",
    "when again function b() is called, this time we have value of a=4 because a is a global variable.\n",
    "Then, function c(4) returns 4+2=6.\n",
    "\n",
    "#step 4\n",
    "print(a)\n",
    "\n",
    "It simply prints the value of a that is 6.\n",
    "After the execution of following statements:-\n",
    "print(b())\n",
    "print(b())\n",
    "print(b())\n",
    "\n"
   ]
  },
  {
   "cell_type": "markdown",
   "id": "feec0c3b",
   "metadata": {},
   "source": [
    "# Question 2\n",
    "Function fileLength(), given to you, takes the name of a file as input and returns \n",
    "the length of the file:\n",
    ">>> fileLength('midterm.py')\n",
    "284\n",
    ">>> fileLength('idterm.py')\n",
    "Traceback (most recent call last):\n",
    "File \"<pyshell#34>\", line 1, in <module>\n",
    " fileLength('idterm.py')\n",
    "File \"/Users/me/midterm.py\", line 3, in fileLength\n",
    " infile = open(filename)\n",
    "FileNotFoundError: [Errno 2] No such file or directory: \n",
    "'idterm.py'\n",
    "As shown above, if the file cannot be found by the interpreter or if it cannot be read \n",
    "as a text file, an exception will be raised. Modify function fileLength() so that a \n",
    "friendly message is printed instead:\n",
    ">>> fileLength('midterm.py')\n",
    "358\n",
    ">>> fileLength('idterm.py')\n",
    "File idterm.py not found."
   ]
  },
  {
   "cell_type": "code",
   "execution_count": 17,
   "id": "6ed60c5a",
   "metadata": {},
   "outputs": [
    {
     "name": "stdout",
     "output_type": "stream",
     "text": [
      "270\n",
      "File idterm.py not found.\n"
     ]
    }
   ],
   "source": [
    "def fileLength(filename):\n",
    "\ttry:\n",
    "\t\tf = open(filename)\n",
    "\t\treturn len(f.read())\n",
    "\texcept FileNotFoundError:\n",
    "\t\treturn 'File '+filename+' not found.'\n",
    "\t\t\n",
    "print(fileLength('midterm.py'))        \n",
    "print(fileLength('idterm.py'))"
   ]
  },
  {
   "cell_type": "markdown",
   "id": "b4d47ba6",
   "metadata": {},
   "source": [
    "# Question 3\n",
    "Write a class named Marsupial that can be used as shown below:\n",
    ">>> m = Marsupial()\n",
    ">>> m.put_in_pouch('doll')\n",
    ">>> m.put_in_pouch('firetruck')\n",
    ">>> m.put_in_pouch('kitten')\n",
    ">>> m.pouch_contents()\n",
    "['doll', 'firetruck', 'kitten']\n",
    "\n",
    "Now write a class named Kangaroo as a subclass of Marsupial that inherits all the \n",
    "attributes of Marsupial and also:\n",
    "a. extends the Marsupial __init__ constructor to take, as input, the \n",
    "coordinates x and y of the Kangaroo object,\n",
    "b. supports method jump that takes number values dx and dy as input and \n",
    "moves the kangaroo by dx units along the x-axis and by dy units along the y\u0002axis, and\n",
    "c. overloads the __str__ operator so it behaves as shown below.\n",
    "\n",
    ">>> k = Kangaroo(0,0)\n",
    ">>> print(k)\n",
    "I am a Kangaroo located at coordinates (0,0)\n",
    ">>> k.put_in_pouch('doll')\n",
    ">>> k.put_in_pouch('firetruck')\n",
    ">>> k.put_in_pouch('kitten')\n",
    ">>> k.pouch_contents()\n",
    "['doll', 'firetruck', 'kitten']\n",
    ">>> k.jump(1,0)\n",
    ">>> k.jump(1,0)\n",
    ">>> k.jump(1,0)\n",
    ">>> print(k)\n",
    "I am a Kangaroo located at coordinates (3,0)"
   ]
  },
  {
   "cell_type": "code",
   "execution_count": 62,
   "id": "85e742e4",
   "metadata": {},
   "outputs": [
    {
     "name": "stdout",
     "output_type": "stream",
     "text": [
      "I am a Kangaroo located at coordinates (0, 0)\n",
      "['doll', 'firetruck', 'kitten']\n",
      "I am a Kangaroo located at coordinates (3, 0)\n"
     ]
    }
   ],
   "source": [
    "class Marsupial:\n",
    "\n",
    "    def __init__(self, xcoord=0, ycoord=0):\n",
    "        self.q = []\n",
    "        self.x = xcoord\n",
    "        self.y = ycoord\n",
    "\n",
    "    def put_in_pouch (self, item):\n",
    "        return self.q.append(item)\n",
    "\n",
    "    def pouch_contents(self):\n",
    "        return self.q\n",
    "\n",
    "    def setx(self, xcoord):\n",
    "        self.x = xcoord\n",
    "\n",
    "    def sety(self, ycoord):\n",
    "        self.y = ycoord\n",
    "\n",
    "    def get(self):\n",
    "        return (self.x, self.y)\n",
    "\n",
    "    def jump(self, dx, dy):\n",
    "        self.x += dx\n",
    "        self.y += dy\n",
    "        \n",
    "    def __add__(self, point):\n",
    "        return Point(self.x+point.x, self.y+point.y)\n",
    "\n",
    "    def __repr__(self):\n",
    "        return 'I am a Kangaroo located at coordinates ({}, {})'.format(self.x, self.y)\n",
    "\n",
    "class Kangaroo(Marsupial):\n",
    "\n",
    "    pass\n",
    "\n",
    "    \n",
    "\n",
    "k = Kangaroo()\n",
    "print(k)\n",
    "k.put_in_pouch('doll')\n",
    "k.put_in_pouch('firetruck')\n",
    "k.put_in_pouch('kitten')\n",
    "print(k.pouch_contents())\n",
    "k.jump(1,0)\n",
    "k.jump(1,0)\n",
    "k.jump(1,0)\n",
    "print(k)"
   ]
  },
  {
   "cell_type": "markdown",
   "id": "ef4112d6",
   "metadata": {},
   "source": [
    "# Question 4\n",
    "Write function collatz() that takes a positive integer x as input and prints the \n",
    "Collatz sequence starting at x. A Collatz sequence is obtained by repeatedly applying \n",
    "this rule to the previous number x in the sequence:\n",
    "\n",
    "x = { 𝑥/2 𝑖𝑓 𝑥 𝑖𝑠 𝑒𝑣𝑒𝑛\n",
    "3𝑥 + 1 𝑖𝑓 𝑥 𝑖𝑠 𝑜𝑑𝑑\n",
    "\n",
    "Your function should stop when the sequence gets to number 1. Your \n",
    "implementation must be recursive, without any loops.\n",
    ">>> collatz(1)\n",
    "1\n",
    ">>> collatz(10)\n",
    "10\n",
    "5\n",
    "16\n",
    "8421"
   ]
  },
  {
   "cell_type": "code",
   "execution_count": 6,
   "id": "643ffadb",
   "metadata": {},
   "outputs": [
    {
     "name": "stdout",
     "output_type": "stream",
     "text": [
      "Enter your value: 10\n",
      "10\n",
      "5\n",
      "16\n",
      "8\n",
      "4\n",
      "2\n",
      "1 "
     ]
    }
   ],
   "source": [
    "def collatz(n):\n",
    "    'prints the n-th pattern'\n",
    "    if n == 1:           # base case\n",
    "        print(1, end=' ')\n",
    "    else:\n",
    "        print(int(n))\n",
    "        if n%2 == 0:\n",
    "            n=n/2\n",
    "        else:\n",
    "            n=3*n+1\n",
    "        if n == 1:\n",
    "            print(1, end=' ')\n",
    "        else:\n",
    "            collatz(n)\n",
    "\n",
    "val = input(\"Enter your value: \")\n",
    "val = int(val)\n",
    "collatz(val)"
   ]
  },
  {
   "cell_type": "markdown",
   "id": "0baf4b82",
   "metadata": {},
   "source": [
    "# Question 5\n",
    "Write a recursive method binary() that takes a non-negative \n",
    "integer n and prints the binary representation of integer n.\n",
    ">>> binary(0)\n",
    "0\n",
    ">>> binary(1)\n",
    "1\n",
    ">>> binary(3)\n",
    "11\n",
    ">>> binary(9)\n",
    "1001"
   ]
  },
  {
   "cell_type": "code",
   "execution_count": 9,
   "id": "cbdd2284",
   "metadata": {},
   "outputs": [
    {
     "name": "stdout",
     "output_type": "stream",
     "text": [
      "Enter your value: 9\n",
      "1001\n"
     ]
    }
   ],
   "source": [
    "\n",
    "def binary(n):\n",
    "    s = str(n % 2)\n",
    "\n",
    "    if n >> 1 > 0:\n",
    "        s += binary(n >> 1)\n",
    "\n",
    "    return s\n",
    "\n",
    "val = input(\"Enter your value: \")\n",
    "val = int(val)\n",
    "print(binary(val))"
   ]
  },
  {
   "cell_type": "markdown",
   "id": "497b6ca8",
   "metadata": {},
   "source": [
    "# Question 6\n",
    "Implement a class named HeadingParser that can be used to parse an HTML \n",
    "document, and retrieve and print all the headings in the document. You should \n",
    "implement your class as a subclass of HTMLParser, defined in Standard Library \n",
    "module html.parser. When fed a string containing HTML code, your class should \n",
    "print the headings, one per line and in the order in which they appear in the \n",
    "document. Each heading should be indented as follows: an h1 heading should have\n",
    "indentation 0, and h2 heading should have indentation 1, etc. Test your \n",
    "implementation using w3c.html.\n",
    "\n",
    ">>> infile = open('w3c.html')\n",
    ">>> content = infile.read()\n",
    ">>> infile.close()\n",
    ">>> hp = HeadingParser()\n",
    ">>> hp.feed(content)\n",
    "W3C Mission\n",
    "Principles"
   ]
  },
  {
   "cell_type": "code",
   "execution_count": 13,
   "id": "bb0c2fec",
   "metadata": {},
   "outputs": [
    {
     "name": "stdout",
     "output_type": "stream",
     "text": [
      "W3C Mission\n",
      "\n",
      "\n",
      "\tPrinciples\n",
      "\t\n",
      "\n"
     ]
    }
   ],
   "source": [
    "infile = open('w3c.html') \n",
    "content = infile.read() \n",
    "infile.close() \n",
    "from html.parser import HTMLParser\n",
    "\n",
    "class MyHTMLParser(HTMLParser):\n",
    "    def handle_data(self, data):\n",
    "        if HTMLParser.get_starttag_text(self).endswith('h1>'):\n",
    "            print (data)\n",
    "        if HTMLParser.get_starttag_text(self).endswith('h2>'):\n",
    "            print ('\\t'+data)\n",
    "            \n",
    "parser = MyHTMLParser()\n",
    "parser.feed(content)"
   ]
  },
  {
   "cell_type": "markdown",
   "id": "abb30ba3",
   "metadata": {},
   "source": [
    "# Question 7\n",
    "Implement recursive function webdir() that takes as input: a URL (as a string) and \n",
    "non-negative integers depth and indent. Your function should visit every web \n",
    "page reachable from the starting URL web page in depth clicks or less, and print \n",
    "each web page's URL. As shown below, indentation, specified by indent, should \n",
    "be used to indicate the depth of a URL.\n",
    ">>> \n",
    "webdir('http://reed.cs.depaul.edu/lperkovic/csc242/test1.html'\n",
    ", 2, 0)\n",
    "http://reed.cs.depaul.edu/lperkovic/csc242/test1.html\n",
    " http://reed.cs.depaul.edu/lperkovic/csc242/test2.html\n",
    " http://reed.cs.depaul.edu/lperkovic/csc242/test4.html\n",
    " http://reed.cs.depaul.edu/lperkovic/csc242/test3.html\n",
    " http://reed.cs.depaul.edu/lperkovic/csc242/test4.html"
   ]
  },
  {
   "cell_type": "code",
   "execution_count": 2,
   "id": "09db65f5",
   "metadata": {},
   "outputs": [
    {
     "name": "stdout",
     "output_type": "stream",
     "text": [
      "\thttp://reed.cs.depaul.edu/lperkovic/test2.html\n",
      "\thttp://reed.cs.depaul.edu/lperkovic/test3.html\n",
      "\thttp://reed.cs.depaul.edu/lperkovic/test4.html\n",
      "\thttp://reed.cs.depaul.edu/lperkovic/test4.html\n"
     ]
    }
   ],
   "source": [
    "visited = set() # initialize visited to an empty set\n",
    "\n",
    "def webdir(url):\n",
    "    global visited    \n",
    "    visited.add(url)\n",
    "    links = analyze(url)\n",
    "    for link in links:\n",
    "        if link not in visited:\n",
    "            try:\n",
    "                webdir(link)\n",
    "            except:\n",
    "                pass\n",
    "\n",
    "from urllib.request import urlopen\n",
    "from urllib.parse import urljoin\n",
    "from html.parser import HTMLParser\n",
    "\n",
    "class Collector(HTMLParser):\n",
    "\n",
    "    def __init__(self, url):\n",
    "        HTMLParser.__init__(self)\n",
    "        self.url = url\n",
    "        self.links = []\n",
    "\n",
    "    def handle_starttag(self, tag, attrs):\n",
    "        if tag == 'a':\n",
    "            for attr in attrs:\n",
    "                if attr[0] == 'href':\n",
    "                    absolute = urljoin(self.url, attr[1])\n",
    "                    if absolute[:4] == 'http': \n",
    "                        self.links.append(absolute)\n",
    "                        \n",
    "    def getLinks(self):\n",
    "        return self.links\n",
    "\n",
    "def analyze(url):\n",
    "    content = urlopen(url).read().decode()\n",
    "    collector = Collector(url)\n",
    "    collector.feed(content)\n",
    "    urls = collector.getLinks()  \n",
    "    for link in urls:\n",
    "        print('\\t'+link)\n",
    "\n",
    "    return urls\n",
    "\n",
    "webdir('http://reed.cs.depaul.edu/lperkovic/test1.html')\n"
   ]
  },
  {
   "cell_type": "markdown",
   "id": "fdc00702",
   "metadata": {},
   "source": [
    "# Question 8\n",
    "Write SQL queries on the below database table that return: \n",
    "a) All the temperature data.\n",
    "b) All the cities, but without repetition.\n",
    "c) All the records for India.\n",
    "d) All the Fall records.\n",
    "e) The city, country, and season for which the average rainfall is between 200 \n",
    "and 400 millimeters.\n",
    "f) The city and country for which the average Fall temperature is above 20 \n",
    "degrees, in increasing temperature order.\n",
    "g) The total annual rainfall for Cairo.\n",
    "h) The total rainfall for each season.\n",
    "\n",
    "City Country Season Temperature(C) Rainfall(mm)\n",
    "Mumbai India Winter 24.8 5.9 \n",
    "Mumbai India Spring 28.4 16.2 \n",
    "Mumbai India Summer 27.9 1549.4 \n",
    "Mumbai India Fall 27.6 346.0 \n",
    "London United Kingdom Winter 4.2 207.7 \n",
    "London United Kingdom Spring 8.3 169.6 \n",
    "London United Kingdom Summer 15.7 157.0 \n",
    "London United Kingdom Fall 10.4 218.5 \n",
    "Cairo Egypt Winter 13.6 16.5 \n",
    "Cairo Egypt Spring 20.7 6.5 \n",
    "Cairo Egypt Summer 27.7 0.1 \n",
    "Cairo Egypt Fall 22.2 4.5"
   ]
  },
  {
   "cell_type": "code",
   "execution_count": 50,
   "id": "11becfb4",
   "metadata": {},
   "outputs": [
    {
     "data": {
      "text/plain": [
       "<sqlite3.Cursor at 0x2d20ff25180>"
      ]
     },
     "execution_count": 50,
     "metadata": {},
     "output_type": "execute_result"
    }
   ],
   "source": [
    "# SQL queries\n",
    "import sqlite3\n",
    "con = sqlite3.connect('ABCD.db')\n",
    "cur = con.cursor()\n",
    "cur.execute(\"CREATE TABLE Weather (City text, Country text, Season text, Temperature float, Rainfall float)\")\n",
    "record1 = ('Mumbai','India', 'Winter', 24.8, 5.9)\n",
    "record2 = ('Mumbai','India', 'Spring', 28.4, 16.2)\n",
    "record3 = ('Mumbai','India', 'Summer', 27.9, 1549.4)\n",
    "record4 = ('Mumbai','India', 'Fall', 27.6, 346.0)\n",
    "record5 = ('London','United Kingdom', 'Winter', 4.2, 207.7)\n",
    "record6 = ('London','United Kingdom', 'Spring', 8.3, 169.6)\n",
    "record7 = ('London','United Kingdom', 'Summer', 15.7, 157.0)\n",
    "record8 = ('London','United Kingdom', 'Fall', 10.4, 218.5)\n",
    "record9 = ('Cairo','Egypt', 'Winter', 13.6, 16.5)\n",
    "record10 = ('Cairo','Egypt', 'Spring', 20.7, 6.5)\n",
    "record11 = ('Cairo','Egypt', 'Summer', 27.7, 0.1)\n",
    "record12 = ('Cairo','Egypt', 'Fall', 22.2, 4.5)\n",
    "\n",
    "\n",
    "cur.execute(\"INSERT INTO Weather VALUES (?, ?, ?, ?, ?)\", record1)\n",
    "cur.execute(\"INSERT INTO Weather VALUES (?, ?, ?, ?, ?)\", record2)\n",
    "cur.execute(\"INSERT INTO Weather VALUES (?, ?, ?, ?, ?)\", record3)\n",
    "cur.execute(\"INSERT INTO Weather VALUES (?, ?, ?, ?, ?)\", record4)\n",
    "cur.execute(\"INSERT INTO Weather VALUES (?, ?, ?, ?, ?)\", record5)\n",
    "cur.execute(\"INSERT INTO Weather VALUES (?, ?, ?, ?, ?)\", record6)\n",
    "cur.execute(\"INSERT INTO Weather VALUES (?, ?, ?, ?, ?)\", record7)\n",
    "cur.execute(\"INSERT INTO Weather VALUES (?, ?, ?, ?, ?)\", record8)\n",
    "cur.execute(\"INSERT INTO Weather VALUES (?, ?, ?, ?, ?)\", record9)\n",
    "cur.execute(\"INSERT INTO Weather VALUES (?, ?, ?, ?, ?)\", record10)\n",
    "cur.execute(\"INSERT INTO Weather VALUES (?, ?, ?, ?, ?)\", record11)\n",
    "cur.execute(\"INSERT INTO Weather VALUES (?, ?, ?, ?, ?)\", record12)\n",
    "\n"
   ]
  },
  {
   "cell_type": "markdown",
   "id": "20853402",
   "metadata": {},
   "source": [
    "a) All the temperature data."
   ]
  },
  {
   "cell_type": "code",
   "execution_count": 52,
   "id": "4fa40cdc",
   "metadata": {},
   "outputs": [
    {
     "data": {
      "text/plain": [
       "[(24.8,),\n",
       " (28.4,),\n",
       " (27.9,),\n",
       " (27.6,),\n",
       " (4.2,),\n",
       " (8.3,),\n",
       " (15.7,),\n",
       " (10.4,),\n",
       " (13.6,),\n",
       " (20.7,),\n",
       " (27.7,),\n",
       " (22.2,)]"
      ]
     },
     "execution_count": 52,
     "metadata": {},
     "output_type": "execute_result"
    }
   ],
   "source": [
    "cur.execute('SELECT Temperature FROM Weather')\n",
    "cur.fetchall()\n"
   ]
  },
  {
   "cell_type": "markdown",
   "id": "f01c8147",
   "metadata": {},
   "source": [
    "b) All the cities, but without repetition."
   ]
  },
  {
   "cell_type": "code",
   "execution_count": 55,
   "id": "7c179c79",
   "metadata": {},
   "outputs": [
    {
     "data": {
      "text/plain": [
       "[('Mumbai',), ('London',), ('Cairo',)]"
      ]
     },
     "execution_count": 55,
     "metadata": {},
     "output_type": "execute_result"
    }
   ],
   "source": [
    "cur.execute('SELECT Distinct City FROM Weather')\n",
    "cur.fetchall()"
   ]
  },
  {
   "cell_type": "markdown",
   "id": "ea5a3699",
   "metadata": {},
   "source": [
    "c) All the records for India."
   ]
  },
  {
   "cell_type": "code",
   "execution_count": 53,
   "id": "0b2df703",
   "metadata": {},
   "outputs": [
    {
     "data": {
      "text/plain": [
       "[('Mumbai', 'India', 'Winter', 24.8, 5.9),\n",
       " ('Mumbai', 'India', 'Spring', 28.4, 16.2),\n",
       " ('Mumbai', 'India', 'Summer', 27.9, 1549.4),\n",
       " ('Mumbai', 'India', 'Fall', 27.6, 346.0)]"
      ]
     },
     "execution_count": 53,
     "metadata": {},
     "output_type": "execute_result"
    }
   ],
   "source": [
    "cur.execute('SELECT * FROM Weather Where Country=\"India\"')\n",
    "cur.fetchall()"
   ]
  },
  {
   "cell_type": "markdown",
   "id": "74331723",
   "metadata": {},
   "source": [
    "d) All the Fall records."
   ]
  },
  {
   "cell_type": "code",
   "execution_count": 54,
   "id": "b253b919",
   "metadata": {},
   "outputs": [
    {
     "data": {
      "text/plain": [
       "[('Mumbai', 'India', 'Fall', 27.6, 346.0),\n",
       " ('London', 'United Kingdom', 'Fall', 10.4, 218.5),\n",
       " ('Cairo', 'Egypt', 'Fall', 22.2, 4.5)]"
      ]
     },
     "execution_count": 54,
     "metadata": {},
     "output_type": "execute_result"
    }
   ],
   "source": [
    "cur.execute('SELECT * FROM Weather Where Season=\"Fall\"')\n",
    "cur.fetchall()"
   ]
  },
  {
   "cell_type": "markdown",
   "id": "ac227964",
   "metadata": {},
   "source": [
    "e) The city, country, and season for which the average rainfall is between 200 \n",
    "and 400 millimeters"
   ]
  },
  {
   "cell_type": "code",
   "execution_count": 56,
   "id": "e84aaa07",
   "metadata": {},
   "outputs": [
    {
     "data": {
      "text/plain": [
       "[('Mumbai', 'India', 'Fall'),\n",
       " ('London', 'United Kingdom', 'Winter'),\n",
       " ('London', 'United Kingdom', 'Fall')]"
      ]
     },
     "execution_count": 56,
     "metadata": {},
     "output_type": "execute_result"
    }
   ],
   "source": [
    "cur.execute('SELECT City, Country , Season FROM Weather Where Rainfall Between 200 and 400')\n",
    "cur.fetchall()"
   ]
  },
  {
   "cell_type": "markdown",
   "id": "ef36587c",
   "metadata": {},
   "source": [
    "f) The city and country for which the average Fall temperature is above 20 \n",
    "degrees, in increasing temperature order."
   ]
  },
  {
   "cell_type": "code",
   "execution_count": 57,
   "id": "e8c5c959",
   "metadata": {},
   "outputs": [
    {
     "data": {
      "text/plain": [
       "[('Cairo', 'Egypt'),\n",
       " ('Cairo', 'Egypt'),\n",
       " ('Mumbai', 'India'),\n",
       " ('Mumbai', 'India'),\n",
       " ('Cairo', 'Egypt'),\n",
       " ('Mumbai', 'India'),\n",
       " ('Mumbai', 'India')]"
      ]
     },
     "execution_count": 57,
     "metadata": {},
     "output_type": "execute_result"
    }
   ],
   "source": [
    "cur.execute('SELECT City, Country FROM Weather Where Temperature>20 order by Temperature')\n",
    "cur.fetchall()"
   ]
  },
  {
   "cell_type": "markdown",
   "id": "28f5a8e9",
   "metadata": {},
   "source": [
    "g) The total annual rainfall for Cairo."
   ]
  },
  {
   "cell_type": "code",
   "execution_count": 58,
   "id": "a950caec",
   "metadata": {},
   "outputs": [
    {
     "data": {
      "text/plain": [
       "[(27.6,)]"
      ]
     },
     "execution_count": 58,
     "metadata": {},
     "output_type": "execute_result"
    }
   ],
   "source": [
    "cur.execute('SELECT Sum(Rainfall) FROM Weather Where City=\"Cairo\"')\n",
    "cur.fetchall()"
   ]
  },
  {
   "cell_type": "code",
   "execution_count": null,
   "id": "c9ad2676",
   "metadata": {},
   "outputs": [],
   "source": [
    "h) The total rainfall for each season."
   ]
  },
  {
   "cell_type": "code",
   "execution_count": 60,
   "id": "b3f02d7f",
   "metadata": {},
   "outputs": [
    {
     "data": {
      "text/plain": [
       "[(569.0, 'Fall'),\n",
       " (192.29999999999998, 'Spring'),\n",
       " (1706.5, 'Summer'),\n",
       " (230.1, 'Winter')]"
      ]
     },
     "execution_count": 60,
     "metadata": {},
     "output_type": "execute_result"
    }
   ],
   "source": [
    "cur.execute('SELECT distinct Sum(Rainfall), Season FROM Weather group by Season ')\n",
    "cur.fetchall()"
   ]
  },
  {
   "cell_type": "markdown",
   "id": "4cff081b",
   "metadata": {},
   "source": [
    "# Question 9\n",
    ". Suppose list words is defined as follows:\n",
    ">>> words = ['The', 'quick', 'brown', 'fox', 'jumps', 'over', \n",
    "'the', 'lazy', 'dog']\n",
    "Write list comprehension expressions that use list words and generate the following \n",
    "lists:\n",
    "a) ['THE', 'QUICK', 'BROWN', 'FOX', 'JUMPS', 'OVER', 'THE', \n",
    "'LAZY', 'DOG']\n",
    "b) ['the', 'quick', 'brown', 'fox', 'jumps', 'over', 'the', \n",
    "'lazy', 'dog']\n",
    "c) [3, 5, 5, 3, 5, 4, 3, 4, 3] (the list of lengths of words in list \n",
    "words).\n",
    "d) [['THE', 'the', 3], ['QUICK', 'quick', 5], ['BROWN', \n",
    "'brown', 5], ['FOX', 'fox', 3], ['JUMPS', 'jumps', 5], \n",
    "['OVER', 'over', 4], ['THE', 'the', 3], ['LAZY', 'lazy', \n",
    "4], ['DOG', 'dog', 3]] (the list containing a list for every word of list \n",
    "words, where each list contains the word in uppercase and lowercase and the \n",
    "length of the word.)\n",
    "e) ['The', 'quick', 'brown', 'fox', 'jumps', 'over', 'the', \n",
    "'lazy', 'dog'] (the list of words in list words containing 4 or more \n",
    "characters.)"
   ]
  },
  {
   "cell_type": "code",
   "execution_count": 38,
   "id": "fe4f6534",
   "metadata": {},
   "outputs": [
    {
     "name": "stdout",
     "output_type": "stream",
     "text": [
      "['THE', 'QUICK', 'BROWN', 'FOX', 'JUMPS', 'OVER', 'THE', 'LAZY', 'DOG']\n",
      "['the', 'quick', 'brown', 'fox', 'jumps', 'over', 'the', 'lazy', 'dog']\n",
      "[3, 5, 5, 3, 3, 4, 3, 4, 5]\n",
      "[['THE', 'the', 3], ['QUICK', 'quick', 5], ['BROWN', 'brown', 5], ['DOG', 'dog', 3], ['THE', 'the', 3], ['LAZY', 'lazy', 4], ['FOX', 'fox', 3], ['OVER', 'over', 4], ['JUMPS', 'jumps', 5]]\n",
      "['quick', 'brown', 'jumps', 'over', 'lazy']\n"
     ]
    }
   ],
   "source": [
    "words = ['The', 'quick', 'brown', 'fox', 'jumps', 'over', 'the', 'lazy', 'dog']\n",
    "\n",
    "for i in range(len(words)):\n",
    "    words[i] = words[i].upper()\n",
    "\n",
    "print(words)\n",
    "\n",
    "for i in range(len(words)):\n",
    "    words[i] = words[i].lower()\n",
    "\n",
    "print(words)\n",
    "\n",
    "arr1 = list()\n",
    "for i in range(len(words)):\n",
    "\tarr1.insert(len(words[i]),len(words[i]))\n",
    "\n",
    "print(arr1)\n",
    "\n",
    "arr2 = list()\n",
    "for i in range(len(words)):\n",
    "    arr2.insert(len(words[i]),[words[i].upper(),words[i].lower(),len(words[i])])\n",
    "\n",
    "print(arr2)\n",
    "b) All the cities, but without repetition.\n",
    "new_arr = list()\n",
    "for i in range(len(words)):\n",
    "    if(len(words[i]) >= 4):\n",
    "        new_arr.insert(len(words[i]),words[i])\n",
    "\n",
    "print(new_arr)"
   ]
  }
 ],
 "metadata": {
  "kernelspec": {
   "display_name": "Python 3 (ipykernel)",
   "language": "python",
   "name": "python3"
  },
  "language_info": {
   "codemirror_mode": {
    "name": "ipython",
    "version": 3
   },
   "file_extension": ".py",
   "mimetype": "text/x-python",
   "name": "python",
   "nbconvert_exporter": "python",
   "pygments_lexer": "ipython3",
   "version": "3.9.7"
  }
 },
 "nbformat": 4,
 "nbformat_minor": 5
}
